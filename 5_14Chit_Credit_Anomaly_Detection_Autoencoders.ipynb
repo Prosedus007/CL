{
 "cells": [
  {
   "cell_type": "code",
   "execution_count": 1,
   "id": "24050f30",
   "metadata": {
    "id": "24050f30"
   },
   "outputs": [],
   "source": [
    "import pandas as pd\n",
    "import numpy as np\n",
    "import matplotlib.pyplot as plt\n",
    "import tensorflow as tf\n",
    "from tensorflow.keras.layers import BatchNormalization, MaxPooling2D, Conv2D, Dense, Dropout, Flatten\n",
    "from tensorflow.keras.models import Model, Sequential\n",
    "from tensorflow.keras.optimizers import SGD\n",
    "from sklearn.model_selection import train_test_split\n",
    "from sklearn.preprocessing import StandardScaler\n",
    "from sklearn.metrics import confusion_matrix, classification_report"
   ]
  },
  {
   "cell_type": "code",
   "execution_count": 2,
   "id": "c3476efd",
   "metadata": {
    "id": "c3476efd",
    "outputId": "11925600-2d37-4728-9d0f-05c43080de09"
   },
   "outputs": [
    {
     "data": {
      "text/html": [
       "<div>\n",
       "<style scoped>\n",
       "    .dataframe tbody tr th:only-of-type {\n",
       "        vertical-align: middle;\n",
       "    }\n",
       "\n",
       "    .dataframe tbody tr th {\n",
       "        vertical-align: top;\n",
       "    }\n",
       "\n",
       "    .dataframe thead th {\n",
       "        text-align: right;\n",
       "    }\n",
       "</style>\n",
       "<table border=\"1\" class=\"dataframe\">\n",
       "  <thead>\n",
       "    <tr style=\"text-align: right;\">\n",
       "      <th></th>\n",
       "      <th>0</th>\n",
       "      <th>1</th>\n",
       "      <th>2</th>\n",
       "      <th>3</th>\n",
       "      <th>4</th>\n",
       "      <th>5</th>\n",
       "      <th>6</th>\n",
       "      <th>7</th>\n",
       "      <th>8</th>\n",
       "      <th>9</th>\n",
       "      <th>...</th>\n",
       "      <th>131</th>\n",
       "      <th>132</th>\n",
       "      <th>133</th>\n",
       "      <th>134</th>\n",
       "      <th>135</th>\n",
       "      <th>136</th>\n",
       "      <th>137</th>\n",
       "      <th>138</th>\n",
       "      <th>139</th>\n",
       "      <th>140</th>\n",
       "    </tr>\n",
       "  </thead>\n",
       "  <tbody>\n",
       "    <tr>\n",
       "      <th>0</th>\n",
       "      <td>-0.112522</td>\n",
       "      <td>-2.827204</td>\n",
       "      <td>-3.773897</td>\n",
       "      <td>-4.349751</td>\n",
       "      <td>-4.376041</td>\n",
       "      <td>-3.474986</td>\n",
       "      <td>-2.181408</td>\n",
       "      <td>-1.818286</td>\n",
       "      <td>-1.250522</td>\n",
       "      <td>-0.477492</td>\n",
       "      <td>...</td>\n",
       "      <td>0.792168</td>\n",
       "      <td>0.933541</td>\n",
       "      <td>0.796958</td>\n",
       "      <td>0.578621</td>\n",
       "      <td>0.257740</td>\n",
       "      <td>0.228077</td>\n",
       "      <td>0.123431</td>\n",
       "      <td>0.925286</td>\n",
       "      <td>0.193137</td>\n",
       "      <td>1</td>\n",
       "    </tr>\n",
       "    <tr>\n",
       "      <th>1</th>\n",
       "      <td>-1.100878</td>\n",
       "      <td>-3.996840</td>\n",
       "      <td>-4.285843</td>\n",
       "      <td>-4.506579</td>\n",
       "      <td>-4.022377</td>\n",
       "      <td>-3.234368</td>\n",
       "      <td>-1.566126</td>\n",
       "      <td>-0.992258</td>\n",
       "      <td>-0.754680</td>\n",
       "      <td>0.042321</td>\n",
       "      <td>...</td>\n",
       "      <td>0.538356</td>\n",
       "      <td>0.656881</td>\n",
       "      <td>0.787490</td>\n",
       "      <td>0.724046</td>\n",
       "      <td>0.555784</td>\n",
       "      <td>0.476333</td>\n",
       "      <td>0.773820</td>\n",
       "      <td>1.119621</td>\n",
       "      <td>-1.436250</td>\n",
       "      <td>1</td>\n",
       "    </tr>\n",
       "    <tr>\n",
       "      <th>2</th>\n",
       "      <td>-0.567088</td>\n",
       "      <td>-2.593450</td>\n",
       "      <td>-3.874230</td>\n",
       "      <td>-4.584095</td>\n",
       "      <td>-4.187449</td>\n",
       "      <td>-3.151462</td>\n",
       "      <td>-1.742940</td>\n",
       "      <td>-1.490659</td>\n",
       "      <td>-1.183580</td>\n",
       "      <td>-0.394229</td>\n",
       "      <td>...</td>\n",
       "      <td>0.886073</td>\n",
       "      <td>0.531452</td>\n",
       "      <td>0.311377</td>\n",
       "      <td>-0.021919</td>\n",
       "      <td>-0.713683</td>\n",
       "      <td>-0.532197</td>\n",
       "      <td>0.321097</td>\n",
       "      <td>0.904227</td>\n",
       "      <td>-0.421797</td>\n",
       "      <td>1</td>\n",
       "    </tr>\n",
       "    <tr>\n",
       "      <th>3</th>\n",
       "      <td>0.490473</td>\n",
       "      <td>-1.914407</td>\n",
       "      <td>-3.616364</td>\n",
       "      <td>-4.318823</td>\n",
       "      <td>-4.268016</td>\n",
       "      <td>-3.881110</td>\n",
       "      <td>-2.993280</td>\n",
       "      <td>-1.671131</td>\n",
       "      <td>-1.333884</td>\n",
       "      <td>-0.965629</td>\n",
       "      <td>...</td>\n",
       "      <td>0.350816</td>\n",
       "      <td>0.499111</td>\n",
       "      <td>0.600345</td>\n",
       "      <td>0.842069</td>\n",
       "      <td>0.952074</td>\n",
       "      <td>0.990133</td>\n",
       "      <td>1.086798</td>\n",
       "      <td>1.403011</td>\n",
       "      <td>-0.383564</td>\n",
       "      <td>1</td>\n",
       "    </tr>\n",
       "    <tr>\n",
       "      <th>4</th>\n",
       "      <td>0.800232</td>\n",
       "      <td>-0.874252</td>\n",
       "      <td>-2.384761</td>\n",
       "      <td>-3.973292</td>\n",
       "      <td>-4.338224</td>\n",
       "      <td>-3.802422</td>\n",
       "      <td>-2.534510</td>\n",
       "      <td>-1.783423</td>\n",
       "      <td>-1.594450</td>\n",
       "      <td>-0.753199</td>\n",
       "      <td>...</td>\n",
       "      <td>1.148884</td>\n",
       "      <td>0.958434</td>\n",
       "      <td>1.059025</td>\n",
       "      <td>1.371682</td>\n",
       "      <td>1.277392</td>\n",
       "      <td>0.960304</td>\n",
       "      <td>0.971020</td>\n",
       "      <td>1.614392</td>\n",
       "      <td>1.421456</td>\n",
       "      <td>1</td>\n",
       "    </tr>\n",
       "    <tr>\n",
       "      <th>...</th>\n",
       "      <td>...</td>\n",
       "      <td>...</td>\n",
       "      <td>...</td>\n",
       "      <td>...</td>\n",
       "      <td>...</td>\n",
       "      <td>...</td>\n",
       "      <td>...</td>\n",
       "      <td>...</td>\n",
       "      <td>...</td>\n",
       "      <td>...</td>\n",
       "      <td>...</td>\n",
       "      <td>...</td>\n",
       "      <td>...</td>\n",
       "      <td>...</td>\n",
       "      <td>...</td>\n",
       "      <td>...</td>\n",
       "      <td>...</td>\n",
       "      <td>...</td>\n",
       "      <td>...</td>\n",
       "      <td>...</td>\n",
       "      <td>...</td>\n",
       "    </tr>\n",
       "    <tr>\n",
       "      <th>4993</th>\n",
       "      <td>0.608558</td>\n",
       "      <td>-0.335651</td>\n",
       "      <td>-0.990948</td>\n",
       "      <td>-1.784153</td>\n",
       "      <td>-2.626145</td>\n",
       "      <td>-2.957065</td>\n",
       "      <td>-2.931897</td>\n",
       "      <td>-2.664816</td>\n",
       "      <td>-2.090137</td>\n",
       "      <td>-1.461841</td>\n",
       "      <td>...</td>\n",
       "      <td>1.757705</td>\n",
       "      <td>2.291923</td>\n",
       "      <td>2.704595</td>\n",
       "      <td>2.451519</td>\n",
       "      <td>2.017396</td>\n",
       "      <td>1.704358</td>\n",
       "      <td>1.688542</td>\n",
       "      <td>1.629593</td>\n",
       "      <td>1.342651</td>\n",
       "      <td>0</td>\n",
       "    </tr>\n",
       "    <tr>\n",
       "      <th>4994</th>\n",
       "      <td>-2.060402</td>\n",
       "      <td>-2.860116</td>\n",
       "      <td>-3.405074</td>\n",
       "      <td>-3.748719</td>\n",
       "      <td>-3.513561</td>\n",
       "      <td>-3.006545</td>\n",
       "      <td>-2.234850</td>\n",
       "      <td>-1.593270</td>\n",
       "      <td>-1.075279</td>\n",
       "      <td>-0.976047</td>\n",
       "      <td>...</td>\n",
       "      <td>1.388947</td>\n",
       "      <td>2.079675</td>\n",
       "      <td>2.433375</td>\n",
       "      <td>2.159484</td>\n",
       "      <td>1.819747</td>\n",
       "      <td>1.534767</td>\n",
       "      <td>1.696818</td>\n",
       "      <td>1.483832</td>\n",
       "      <td>1.047612</td>\n",
       "      <td>0</td>\n",
       "    </tr>\n",
       "    <tr>\n",
       "      <th>4995</th>\n",
       "      <td>-1.122969</td>\n",
       "      <td>-2.252925</td>\n",
       "      <td>-2.867628</td>\n",
       "      <td>-3.358605</td>\n",
       "      <td>-3.167849</td>\n",
       "      <td>-2.638360</td>\n",
       "      <td>-1.664162</td>\n",
       "      <td>-0.935655</td>\n",
       "      <td>-0.866953</td>\n",
       "      <td>-0.645363</td>\n",
       "      <td>...</td>\n",
       "      <td>-0.472419</td>\n",
       "      <td>-1.310147</td>\n",
       "      <td>-2.029521</td>\n",
       "      <td>-3.221294</td>\n",
       "      <td>-4.176790</td>\n",
       "      <td>-4.009720</td>\n",
       "      <td>-2.874136</td>\n",
       "      <td>-2.008369</td>\n",
       "      <td>-1.808334</td>\n",
       "      <td>0</td>\n",
       "    </tr>\n",
       "    <tr>\n",
       "      <th>4996</th>\n",
       "      <td>-0.547705</td>\n",
       "      <td>-1.889545</td>\n",
       "      <td>-2.839779</td>\n",
       "      <td>-3.457912</td>\n",
       "      <td>-3.929149</td>\n",
       "      <td>-3.966026</td>\n",
       "      <td>-3.492560</td>\n",
       "      <td>-2.695270</td>\n",
       "      <td>-1.849691</td>\n",
       "      <td>-1.374321</td>\n",
       "      <td>...</td>\n",
       "      <td>1.258419</td>\n",
       "      <td>1.907530</td>\n",
       "      <td>2.280888</td>\n",
       "      <td>1.895242</td>\n",
       "      <td>1.437702</td>\n",
       "      <td>1.193433</td>\n",
       "      <td>1.261335</td>\n",
       "      <td>1.150449</td>\n",
       "      <td>0.804932</td>\n",
       "      <td>0</td>\n",
       "    </tr>\n",
       "    <tr>\n",
       "      <th>4997</th>\n",
       "      <td>-1.351779</td>\n",
       "      <td>-2.209006</td>\n",
       "      <td>-2.520225</td>\n",
       "      <td>-3.061475</td>\n",
       "      <td>-3.065141</td>\n",
       "      <td>-3.030739</td>\n",
       "      <td>-2.622720</td>\n",
       "      <td>-2.044092</td>\n",
       "      <td>-1.295874</td>\n",
       "      <td>-0.733839</td>\n",
       "      <td>...</td>\n",
       "      <td>-1.512234</td>\n",
       "      <td>-2.076075</td>\n",
       "      <td>-2.586042</td>\n",
       "      <td>-3.322799</td>\n",
       "      <td>-3.627311</td>\n",
       "      <td>-3.437038</td>\n",
       "      <td>-2.260023</td>\n",
       "      <td>-1.577823</td>\n",
       "      <td>-0.684531</td>\n",
       "      <td>0</td>\n",
       "    </tr>\n",
       "  </tbody>\n",
       "</table>\n",
       "<p>4998 rows × 141 columns</p>\n",
       "</div>"
      ],
      "text/plain": [
       "           0         1         2         3         4         5         6    \\\n",
       "0    -0.112522 -2.827204 -3.773897 -4.349751 -4.376041 -3.474986 -2.181408   \n",
       "1    -1.100878 -3.996840 -4.285843 -4.506579 -4.022377 -3.234368 -1.566126   \n",
       "2    -0.567088 -2.593450 -3.874230 -4.584095 -4.187449 -3.151462 -1.742940   \n",
       "3     0.490473 -1.914407 -3.616364 -4.318823 -4.268016 -3.881110 -2.993280   \n",
       "4     0.800232 -0.874252 -2.384761 -3.973292 -4.338224 -3.802422 -2.534510   \n",
       "...        ...       ...       ...       ...       ...       ...       ...   \n",
       "4993  0.608558 -0.335651 -0.990948 -1.784153 -2.626145 -2.957065 -2.931897   \n",
       "4994 -2.060402 -2.860116 -3.405074 -3.748719 -3.513561 -3.006545 -2.234850   \n",
       "4995 -1.122969 -2.252925 -2.867628 -3.358605 -3.167849 -2.638360 -1.664162   \n",
       "4996 -0.547705 -1.889545 -2.839779 -3.457912 -3.929149 -3.966026 -3.492560   \n",
       "4997 -1.351779 -2.209006 -2.520225 -3.061475 -3.065141 -3.030739 -2.622720   \n",
       "\n",
       "           7         8         9    ...       131       132       133  \\\n",
       "0    -1.818286 -1.250522 -0.477492  ...  0.792168  0.933541  0.796958   \n",
       "1    -0.992258 -0.754680  0.042321  ...  0.538356  0.656881  0.787490   \n",
       "2    -1.490659 -1.183580 -0.394229  ...  0.886073  0.531452  0.311377   \n",
       "3    -1.671131 -1.333884 -0.965629  ...  0.350816  0.499111  0.600345   \n",
       "4    -1.783423 -1.594450 -0.753199  ...  1.148884  0.958434  1.059025   \n",
       "...        ...       ...       ...  ...       ...       ...       ...   \n",
       "4993 -2.664816 -2.090137 -1.461841  ...  1.757705  2.291923  2.704595   \n",
       "4994 -1.593270 -1.075279 -0.976047  ...  1.388947  2.079675  2.433375   \n",
       "4995 -0.935655 -0.866953 -0.645363  ... -0.472419 -1.310147 -2.029521   \n",
       "4996 -2.695270 -1.849691 -1.374321  ...  1.258419  1.907530  2.280888   \n",
       "4997 -2.044092 -1.295874 -0.733839  ... -1.512234 -2.076075 -2.586042   \n",
       "\n",
       "           134       135       136       137       138       139  140  \n",
       "0     0.578621  0.257740  0.228077  0.123431  0.925286  0.193137    1  \n",
       "1     0.724046  0.555784  0.476333  0.773820  1.119621 -1.436250    1  \n",
       "2    -0.021919 -0.713683 -0.532197  0.321097  0.904227 -0.421797    1  \n",
       "3     0.842069  0.952074  0.990133  1.086798  1.403011 -0.383564    1  \n",
       "4     1.371682  1.277392  0.960304  0.971020  1.614392  1.421456    1  \n",
       "...        ...       ...       ...       ...       ...       ...  ...  \n",
       "4993  2.451519  2.017396  1.704358  1.688542  1.629593  1.342651    0  \n",
       "4994  2.159484  1.819747  1.534767  1.696818  1.483832  1.047612    0  \n",
       "4995 -3.221294 -4.176790 -4.009720 -2.874136 -2.008369 -1.808334    0  \n",
       "4996  1.895242  1.437702  1.193433  1.261335  1.150449  0.804932    0  \n",
       "4997 -3.322799 -3.627311 -3.437038 -2.260023 -1.577823 -0.684531    0  \n",
       "\n",
       "[4998 rows x 141 columns]"
      ]
     },
     "execution_count": 2,
     "metadata": {},
     "output_type": "execute_result"
    }
   ],
   "source": [
    "df = pd.read_csv(\"content/ecg_autoencoder_dataset.csv\", header = None)\n",
    "df"
   ]
  },
  {
   "cell_type": "code",
   "execution_count": 3,
   "id": "7ace7cc9",
   "metadata": {
    "id": "7ace7cc9"
   },
   "outputs": [],
   "source": [
    "X = df.drop([140], axis = 1)\n",
    "y = df[140]"
   ]
  },
  {
   "cell_type": "code",
   "execution_count": 4,
   "id": "bc8c6e3b",
   "metadata": {
    "id": "bc8c6e3b"
   },
   "outputs": [],
   "source": [
    "X_train, X_test, y_train, y_test = train_test_split(X, y, test_size=0.3, random_state=42)"
   ]
  },
  {
   "cell_type": "code",
   "execution_count": 5,
   "id": "592b78e5",
   "metadata": {
    "id": "592b78e5"
   },
   "outputs": [],
   "source": [
    "scaler = StandardScaler()\n",
    "X_train =  scaler.fit_transform(X_train)\n",
    "X_test = scaler.transform(X_test)"
   ]
  },
  {
   "cell_type": "code",
   "execution_count": 6,
   "id": "6a22a664",
   "metadata": {
    "id": "6a22a664"
   },
   "outputs": [],
   "source": [
    "encoder = Sequential([Dense(64, activation = 'relu', input_shape = (X_train.shape[1],))])\n",
    "decoder = Sequential([Dense(X_train.shape[1], activation = 'sigmoid')])"
   ]
  },
  {
   "cell_type": "code",
   "execution_count": 7,
   "id": "4125f230",
   "metadata": {
    "id": "4125f230"
   },
   "outputs": [],
   "source": [
    "autoencoder = Sequential([encoder, decoder])"
   ]
  },
  {
   "cell_type": "code",
   "execution_count": 8,
   "id": "b8063605",
   "metadata": {
    "id": "b8063605"
   },
   "outputs": [],
   "source": [
    "autoencoder.compile(optimizer = 'adam', loss = 'mean_squared_error', metrics = ['accuracy'])"
   ]
  },
  {
   "cell_type": "code",
   "execution_count": 9,
   "id": "cd106b56",
   "metadata": {
    "id": "cd106b56",
    "outputId": "601d061a-0d66-4211-b025-567294a9b57f"
   },
   "outputs": [
    {
     "name": "stdout",
     "output_type": "stream",
     "text": [
      "Epoch 1/100\n",
      "55/55 [==============================] - 8s 31ms/step - loss: 0.9912 - accuracy: 0.0152 - val_loss: 0.7792 - val_accuracy: 0.0353\n",
      "Epoch 2/100\n",
      "55/55 [==============================] - 1s 11ms/step - loss: 0.7331 - accuracy: 0.0426 - val_loss: 0.7089 - val_accuracy: 0.0547\n",
      "Epoch 3/100\n",
      "55/55 [==============================] - 0s 9ms/step - loss: 0.6941 - accuracy: 0.0552 - val_loss: 0.6882 - val_accuracy: 0.0647\n",
      "Epoch 4/100\n",
      "55/55 [==============================] - 1s 11ms/step - loss: 0.6785 - accuracy: 0.0712 - val_loss: 0.6773 - val_accuracy: 0.0720\n",
      "Epoch 5/100\n",
      "55/55 [==============================] - 1s 10ms/step - loss: 0.6693 - accuracy: 0.0858 - val_loss: 0.6701 - val_accuracy: 0.0847\n",
      "Epoch 6/100\n",
      "55/55 [==============================] - 1s 12ms/step - loss: 0.6626 - accuracy: 0.0969 - val_loss: 0.6643 - val_accuracy: 0.0913\n",
      "Epoch 7/100\n",
      "55/55 [==============================] - 1s 12ms/step - loss: 0.6573 - accuracy: 0.1092 - val_loss: 0.6602 - val_accuracy: 0.1033\n",
      "Epoch 8/100\n",
      "55/55 [==============================] - 1s 10ms/step - loss: 0.6533 - accuracy: 0.1246 - val_loss: 0.6568 - val_accuracy: 0.1307\n",
      "Epoch 9/100\n",
      "55/55 [==============================] - 1s 10ms/step - loss: 0.6502 - accuracy: 0.1404 - val_loss: 0.6543 - val_accuracy: 0.1387\n",
      "Epoch 10/100\n",
      "55/55 [==============================] - 1s 10ms/step - loss: 0.6478 - accuracy: 0.1541 - val_loss: 0.6523 - val_accuracy: 0.1467\n",
      "Epoch 11/100\n",
      "55/55 [==============================] - 1s 11ms/step - loss: 0.6458 - accuracy: 0.1701 - val_loss: 0.6506 - val_accuracy: 0.1620\n",
      "Epoch 12/100\n",
      "55/55 [==============================] - 1s 10ms/step - loss: 0.6442 - accuracy: 0.1730 - val_loss: 0.6493 - val_accuracy: 0.1647\n",
      "Epoch 13/100\n",
      "55/55 [==============================] - 1s 12ms/step - loss: 0.6428 - accuracy: 0.1781 - val_loss: 0.6480 - val_accuracy: 0.1700\n",
      "Epoch 14/100\n",
      "55/55 [==============================] - 1s 11ms/step - loss: 0.6416 - accuracy: 0.1772 - val_loss: 0.6471 - val_accuracy: 0.1813\n",
      "Epoch 15/100\n",
      "55/55 [==============================] - 1s 12ms/step - loss: 0.6405 - accuracy: 0.1887 - val_loss: 0.6460 - val_accuracy: 0.1807\n",
      "Epoch 16/100\n",
      "55/55 [==============================] - 1s 10ms/step - loss: 0.6395 - accuracy: 0.1884 - val_loss: 0.6452 - val_accuracy: 0.1847\n",
      "Epoch 17/100\n",
      "55/55 [==============================] - 1s 10ms/step - loss: 0.6386 - accuracy: 0.1918 - val_loss: 0.6444 - val_accuracy: 0.1867\n",
      "Epoch 18/100\n",
      "55/55 [==============================] - 1s 11ms/step - loss: 0.6378 - accuracy: 0.1907 - val_loss: 0.6438 - val_accuracy: 0.1813\n",
      "Epoch 19/100\n",
      "55/55 [==============================] - 1s 11ms/step - loss: 0.6372 - accuracy: 0.1950 - val_loss: 0.6432 - val_accuracy: 0.1900\n",
      "Epoch 20/100\n",
      "55/55 [==============================] - 1s 11ms/step - loss: 0.6366 - accuracy: 0.1958 - val_loss: 0.6426 - val_accuracy: 0.1960\n",
      "Epoch 21/100\n",
      "55/55 [==============================] - 1s 10ms/step - loss: 0.6360 - accuracy: 0.1995 - val_loss: 0.6422 - val_accuracy: 0.1927\n",
      "Epoch 22/100\n",
      "55/55 [==============================] - 1s 11ms/step - loss: 0.6355 - accuracy: 0.1955 - val_loss: 0.6417 - val_accuracy: 0.1980\n",
      "Epoch 23/100\n",
      "55/55 [==============================] - 1s 11ms/step - loss: 0.6350 - accuracy: 0.2044 - val_loss: 0.6414 - val_accuracy: 0.2113\n",
      "Epoch 24/100\n",
      "55/55 [==============================] - 1s 11ms/step - loss: 0.6345 - accuracy: 0.2073 - val_loss: 0.6410 - val_accuracy: 0.2113\n",
      "Epoch 25/100\n",
      "55/55 [==============================] - 0s 8ms/step - loss: 0.6341 - accuracy: 0.2124 - val_loss: 0.6407 - val_accuracy: 0.2260\n",
      "Epoch 26/100\n",
      "55/55 [==============================] - 0s 9ms/step - loss: 0.6337 - accuracy: 0.2121 - val_loss: 0.6405 - val_accuracy: 0.2167\n",
      "Epoch 27/100\n",
      "55/55 [==============================] - 0s 9ms/step - loss: 0.6333 - accuracy: 0.2144 - val_loss: 0.6401 - val_accuracy: 0.2233\n",
      "Epoch 28/100\n",
      "55/55 [==============================] - 1s 10ms/step - loss: 0.6330 - accuracy: 0.2173 - val_loss: 0.6399 - val_accuracy: 0.2220\n",
      "Epoch 29/100\n",
      "55/55 [==============================] - 1s 13ms/step - loss: 0.6327 - accuracy: 0.2141 - val_loss: 0.6397 - val_accuracy: 0.2393\n",
      "Epoch 30/100\n",
      "55/55 [==============================] - 1s 10ms/step - loss: 0.6324 - accuracy: 0.2156 - val_loss: 0.6394 - val_accuracy: 0.2333\n",
      "Epoch 31/100\n",
      "55/55 [==============================] - 1s 11ms/step - loss: 0.6321 - accuracy: 0.2218 - val_loss: 0.6392 - val_accuracy: 0.2367\n",
      "Epoch 32/100\n",
      "55/55 [==============================] - 1s 13ms/step - loss: 0.6318 - accuracy: 0.2184 - val_loss: 0.6390 - val_accuracy: 0.2220\n",
      "Epoch 33/100\n",
      "55/55 [==============================] - 1s 12ms/step - loss: 0.6315 - accuracy: 0.2221 - val_loss: 0.6387 - val_accuracy: 0.2440\n",
      "Epoch 34/100\n",
      "55/55 [==============================] - 1s 10ms/step - loss: 0.6313 - accuracy: 0.2258 - val_loss: 0.6386 - val_accuracy: 0.2427\n",
      "Epoch 35/100\n",
      "55/55 [==============================] - 1s 10ms/step - loss: 0.6310 - accuracy: 0.2258 - val_loss: 0.6383 - val_accuracy: 0.2253\n",
      "Epoch 36/100\n",
      "55/55 [==============================] - 1s 11ms/step - loss: 0.6308 - accuracy: 0.2238 - val_loss: 0.6382 - val_accuracy: 0.2333\n",
      "Epoch 37/100\n",
      "55/55 [==============================] - 1s 10ms/step - loss: 0.6305 - accuracy: 0.2193 - val_loss: 0.6381 - val_accuracy: 0.2393\n",
      "Epoch 38/100\n",
      "55/55 [==============================] - 1s 11ms/step - loss: 0.6303 - accuracy: 0.2261 - val_loss: 0.6379 - val_accuracy: 0.2313\n",
      "Epoch 39/100\n",
      "55/55 [==============================] - 1s 12ms/step - loss: 0.6301 - accuracy: 0.2247 - val_loss: 0.6377 - val_accuracy: 0.2373\n",
      "Epoch 40/100\n",
      "55/55 [==============================] - 1s 10ms/step - loss: 0.6300 - accuracy: 0.2273 - val_loss: 0.6375 - val_accuracy: 0.2413\n",
      "Epoch 41/100\n",
      "55/55 [==============================] - 1s 11ms/step - loss: 0.6297 - accuracy: 0.2290 - val_loss: 0.6374 - val_accuracy: 0.2473\n",
      "Epoch 42/100\n",
      "55/55 [==============================] - 0s 6ms/step - loss: 0.6296 - accuracy: 0.2287 - val_loss: 0.6372 - val_accuracy: 0.2253\n",
      "Epoch 43/100\n",
      "55/55 [==============================] - 0s 5ms/step - loss: 0.6294 - accuracy: 0.2267 - val_loss: 0.6371 - val_accuracy: 0.2360\n",
      "Epoch 44/100\n",
      "55/55 [==============================] - 0s 8ms/step - loss: 0.6292 - accuracy: 0.2336 - val_loss: 0.6369 - val_accuracy: 0.2253\n",
      "Epoch 45/100\n",
      "55/55 [==============================] - 0s 8ms/step - loss: 0.6290 - accuracy: 0.2276 - val_loss: 0.6368 - val_accuracy: 0.2407\n",
      "Epoch 46/100\n",
      "55/55 [==============================] - 1s 10ms/step - loss: 0.6289 - accuracy: 0.2301 - val_loss: 0.6366 - val_accuracy: 0.2300\n",
      "Epoch 47/100\n",
      "55/55 [==============================] - 0s 8ms/step - loss: 0.6287 - accuracy: 0.2313 - val_loss: 0.6366 - val_accuracy: 0.2253\n",
      "Epoch 48/100\n",
      "55/55 [==============================] - 0s 7ms/step - loss: 0.6286 - accuracy: 0.2304 - val_loss: 0.6364 - val_accuracy: 0.2327\n",
      "Epoch 49/100\n",
      "55/55 [==============================] - 0s 8ms/step - loss: 0.6284 - accuracy: 0.2367 - val_loss: 0.6363 - val_accuracy: 0.2260\n",
      "Epoch 50/100\n",
      "55/55 [==============================] - 0s 7ms/step - loss: 0.6283 - accuracy: 0.2344 - val_loss: 0.6361 - val_accuracy: 0.2333\n",
      "Epoch 51/100\n",
      "55/55 [==============================] - 0s 8ms/step - loss: 0.6281 - accuracy: 0.2384 - val_loss: 0.6361 - val_accuracy: 0.2267\n",
      "Epoch 52/100\n",
      "55/55 [==============================] - 1s 12ms/step - loss: 0.6280 - accuracy: 0.2381 - val_loss: 0.6359 - val_accuracy: 0.2273\n",
      "Epoch 53/100\n",
      "55/55 [==============================] - 1s 11ms/step - loss: 0.6278 - accuracy: 0.2376 - val_loss: 0.6358 - val_accuracy: 0.2353\n",
      "Epoch 54/100\n",
      "55/55 [==============================] - 1s 11ms/step - loss: 0.6277 - accuracy: 0.2379 - val_loss: 0.6357 - val_accuracy: 0.2367\n",
      "Epoch 55/100\n",
      "55/55 [==============================] - 1s 11ms/step - loss: 0.6275 - accuracy: 0.2427 - val_loss: 0.6356 - val_accuracy: 0.2347\n",
      "Epoch 56/100\n",
      "55/55 [==============================] - 1s 11ms/step - loss: 0.6274 - accuracy: 0.2430 - val_loss: 0.6355 - val_accuracy: 0.2447\n",
      "Epoch 57/100\n",
      "55/55 [==============================] - 1s 11ms/step - loss: 0.6273 - accuracy: 0.2433 - val_loss: 0.6354 - val_accuracy: 0.2313\n",
      "Epoch 58/100\n",
      "55/55 [==============================] - 1s 11ms/step - loss: 0.6272 - accuracy: 0.2484 - val_loss: 0.6353 - val_accuracy: 0.2373\n",
      "Epoch 59/100\n",
      "55/55 [==============================] - 1s 11ms/step - loss: 0.6270 - accuracy: 0.2461 - val_loss: 0.6352 - val_accuracy: 0.2400\n",
      "Epoch 60/100\n",
      "55/55 [==============================] - 1s 11ms/step - loss: 0.6269 - accuracy: 0.2450 - val_loss: 0.6350 - val_accuracy: 0.2367\n",
      "Epoch 61/100\n",
      "55/55 [==============================] - 1s 10ms/step - loss: 0.6268 - accuracy: 0.2484 - val_loss: 0.6349 - val_accuracy: 0.2373\n",
      "Epoch 62/100\n",
      "55/55 [==============================] - 1s 11ms/step - loss: 0.6267 - accuracy: 0.2436 - val_loss: 0.6349 - val_accuracy: 0.2400\n",
      "Epoch 63/100\n",
      "55/55 [==============================] - 1s 11ms/step - loss: 0.6265 - accuracy: 0.2436 - val_loss: 0.6347 - val_accuracy: 0.2367\n",
      "Epoch 64/100\n",
      "55/55 [==============================] - 1s 12ms/step - loss: 0.6264 - accuracy: 0.2459 - val_loss: 0.6346 - val_accuracy: 0.2353\n",
      "Epoch 65/100\n",
      "55/55 [==============================] - 1s 10ms/step - loss: 0.6263 - accuracy: 0.2467 - val_loss: 0.6346 - val_accuracy: 0.2487\n",
      "Epoch 66/100\n",
      "55/55 [==============================] - 1s 11ms/step - loss: 0.6262 - accuracy: 0.2513 - val_loss: 0.6345 - val_accuracy: 0.2340\n",
      "Epoch 67/100\n",
      "55/55 [==============================] - 1s 11ms/step - loss: 0.6261 - accuracy: 0.2519 - val_loss: 0.6343 - val_accuracy: 0.2433\n",
      "Epoch 68/100\n",
      "55/55 [==============================] - 1s 12ms/step - loss: 0.6260 - accuracy: 0.2519 - val_loss: 0.6343 - val_accuracy: 0.2480\n",
      "Epoch 69/100\n",
      "55/55 [==============================] - 1s 13ms/step - loss: 0.6259 - accuracy: 0.2516 - val_loss: 0.6342 - val_accuracy: 0.2467\n",
      "Epoch 70/100\n",
      "55/55 [==============================] - 1s 13ms/step - loss: 0.6258 - accuracy: 0.2550 - val_loss: 0.6341 - val_accuracy: 0.2507\n",
      "Epoch 71/100\n",
      "55/55 [==============================] - 1s 9ms/step - loss: 0.6257 - accuracy: 0.2576 - val_loss: 0.6341 - val_accuracy: 0.2407\n",
      "Epoch 72/100\n",
      "55/55 [==============================] - 1s 11ms/step - loss: 0.6257 - accuracy: 0.2564 - val_loss: 0.6340 - val_accuracy: 0.2520\n",
      "Epoch 73/100\n",
      "55/55 [==============================] - 1s 11ms/step - loss: 0.6256 - accuracy: 0.2599 - val_loss: 0.6339 - val_accuracy: 0.2560\n",
      "Epoch 74/100\n",
      "55/55 [==============================] - 1s 11ms/step - loss: 0.6255 - accuracy: 0.2590 - val_loss: 0.6338 - val_accuracy: 0.2433\n",
      "Epoch 75/100\n",
      "55/55 [==============================] - 1s 12ms/step - loss: 0.6254 - accuracy: 0.2587 - val_loss: 0.6337 - val_accuracy: 0.2540\n",
      "Epoch 76/100\n",
      "55/55 [==============================] - 1s 11ms/step - loss: 0.6253 - accuracy: 0.2596 - val_loss: 0.6336 - val_accuracy: 0.2507\n",
      "Epoch 77/100\n",
      "55/55 [==============================] - 1s 12ms/step - loss: 0.6252 - accuracy: 0.2581 - val_loss: 0.6336 - val_accuracy: 0.2600\n",
      "Epoch 78/100\n",
      "55/55 [==============================] - 1s 12ms/step - loss: 0.6252 - accuracy: 0.2633 - val_loss: 0.6334 - val_accuracy: 0.2533\n",
      "Epoch 79/100\n",
      "55/55 [==============================] - 1s 10ms/step - loss: 0.6251 - accuracy: 0.2601 - val_loss: 0.6334 - val_accuracy: 0.2607\n",
      "Epoch 80/100\n",
      "55/55 [==============================] - 1s 12ms/step - loss: 0.6250 - accuracy: 0.2642 - val_loss: 0.6333 - val_accuracy: 0.2553\n",
      "Epoch 81/100\n",
      "55/55 [==============================] - 1s 11ms/step - loss: 0.6249 - accuracy: 0.2684 - val_loss: 0.6332 - val_accuracy: 0.2527\n",
      "Epoch 82/100\n",
      "55/55 [==============================] - 1s 14ms/step - loss: 0.6249 - accuracy: 0.2679 - val_loss: 0.6331 - val_accuracy: 0.2673\n",
      "Epoch 83/100\n",
      "55/55 [==============================] - 1s 12ms/step - loss: 0.6248 - accuracy: 0.2684 - val_loss: 0.6331 - val_accuracy: 0.2567\n",
      "Epoch 84/100\n",
      "55/55 [==============================] - 1s 12ms/step - loss: 0.6247 - accuracy: 0.2747 - val_loss: 0.6330 - val_accuracy: 0.2640\n",
      "Epoch 85/100\n",
      "55/55 [==============================] - 1s 10ms/step - loss: 0.6246 - accuracy: 0.2750 - val_loss: 0.6330 - val_accuracy: 0.2613\n",
      "Epoch 86/100\n",
      "55/55 [==============================] - 1s 10ms/step - loss: 0.6246 - accuracy: 0.2739 - val_loss: 0.6329 - val_accuracy: 0.2673\n",
      "Epoch 87/100\n",
      "55/55 [==============================] - 1s 12ms/step - loss: 0.6245 - accuracy: 0.2684 - val_loss: 0.6329 - val_accuracy: 0.2793\n",
      "Epoch 88/100\n",
      "55/55 [==============================] - 1s 12ms/step - loss: 0.6244 - accuracy: 0.2756 - val_loss: 0.6328 - val_accuracy: 0.2720\n",
      "Epoch 89/100\n",
      "55/55 [==============================] - 1s 11ms/step - loss: 0.6244 - accuracy: 0.2762 - val_loss: 0.6327 - val_accuracy: 0.2567\n",
      "Epoch 90/100\n",
      "55/55 [==============================] - 1s 13ms/step - loss: 0.6243 - accuracy: 0.2767 - val_loss: 0.6327 - val_accuracy: 0.2680\n",
      "Epoch 91/100\n",
      "55/55 [==============================] - 1s 11ms/step - loss: 0.6243 - accuracy: 0.2782 - val_loss: 0.6326 - val_accuracy: 0.2720\n",
      "Epoch 92/100\n",
      "55/55 [==============================] - 1s 11ms/step - loss: 0.6242 - accuracy: 0.2776 - val_loss: 0.6326 - val_accuracy: 0.2600\n",
      "Epoch 93/100\n",
      "55/55 [==============================] - 1s 12ms/step - loss: 0.6241 - accuracy: 0.2807 - val_loss: 0.6325 - val_accuracy: 0.2753\n",
      "Epoch 94/100\n",
      "55/55 [==============================] - 1s 11ms/step - loss: 0.6241 - accuracy: 0.2830 - val_loss: 0.6324 - val_accuracy: 0.2660\n",
      "Epoch 95/100\n",
      "55/55 [==============================] - 1s 10ms/step - loss: 0.6240 - accuracy: 0.2833 - val_loss: 0.6323 - val_accuracy: 0.2800\n",
      "Epoch 96/100\n",
      "55/55 [==============================] - 1s 10ms/step - loss: 0.6239 - accuracy: 0.2847 - val_loss: 0.6323 - val_accuracy: 0.2827\n",
      "Epoch 97/100\n",
      "55/55 [==============================] - 1s 10ms/step - loss: 0.6238 - accuracy: 0.2839 - val_loss: 0.6323 - val_accuracy: 0.2667\n",
      "Epoch 98/100\n",
      "55/55 [==============================] - 1s 12ms/step - loss: 0.6238 - accuracy: 0.2844 - val_loss: 0.6322 - val_accuracy: 0.2800\n",
      "Epoch 99/100\n",
      "55/55 [==============================] - 1s 12ms/step - loss: 0.6237 - accuracy: 0.2902 - val_loss: 0.6322 - val_accuracy: 0.2693\n",
      "Epoch 100/100\n",
      "55/55 [==============================] - 1s 11ms/step - loss: 0.6237 - accuracy: 0.2847 - val_loss: 0.6320 - val_accuracy: 0.2913\n"
     ]
    }
   ],
   "source": [
    "r = autoencoder.fit(X_train, X_train, epochs = 100, batch_size = 64, validation_data= (X_test, X_test))"
   ]
  },
  {
   "cell_type": "code",
   "execution_count": 10,
   "id": "c7d8efaf",
   "metadata": {
    "id": "c7d8efaf",
    "outputId": "bec690c5-d353-42c6-87b7-2f26e0f7b4ed"
   },
   "outputs": [
    {
     "data": {
      "text/plain": [
       "dict_keys(['loss', 'accuracy', 'val_loss', 'val_accuracy'])"
      ]
     },
     "execution_count": 10,
     "metadata": {},
     "output_type": "execute_result"
    }
   ],
   "source": [
    "r.history.keys()"
   ]
  },
  {
   "cell_type": "code",
   "execution_count": 11,
   "id": "91a182b3",
   "metadata": {
    "id": "91a182b3",
    "outputId": "33b63b76-2ae2-46b1-b95b-5561f1bcbc79"
   },
   "outputs": [
    {
     "data": {
      "text/plain": [
       "Text(0, 0.5, 'loss')"
      ]
     },
     "execution_count": 11,
     "metadata": {},
     "output_type": "execute_result"
    },
    {
     "data": {
      "image/png": "[encoded data removed]",
      "text/plain": [
       "<Figure size 640x480 with 1 Axes>"
      ]
     },
     "metadata": {},
     "output_type": "display_data"
    }
   ],
   "source": [
    "plt.plot(r.history['loss'], label = 'loss', color = 'blue')\n",
    "plt.plot(r.history['val_loss'], label = 'val_loss', color = 'green')\n",
    "plt.legend\n",
    "plt.xlabel('epoch')\n",
    "plt.ylabel('loss')"
   ]
  },
  {
   "cell_type": "code",
   "execution_count": 12,
   "id": "63654b4f",
   "metadata": {
    "id": "63654b4f",
    "outputId": "e2f85cc6-0092-4aa1-ab26-f89fbe54088a"
   },
   "outputs": [
    {
     "data": {
      "text/plain": [
       "<function matplotlib.pyplot.legend(*args, **kwargs)>"
      ]
     },
     "execution_count": 12,
     "metadata": {},
     "output_type": "execute_result"
    },
    {
     "data": {
      "image/png": "[encoded data removed]",
      "text/plain": [
       "<Figure size 640x480 with 1 Axes>"
      ]
     },
     "metadata": {},
     "output_type": "display_data"
    }
   ],
   "source": [
    "plt.plot(r.history['accuracy'], label = 'acc', color = 'red')\n",
    "plt.plot(r.history['val_accuracy'], label = 'val_acc', color = 'green')\n",
    "plt.legend"
   ]
  },
  {
   "cell_type": "code",
   "execution_count": 13,
   "id": "6f24eeaf",
   "metadata": {
    "id": "6f24eeaf",
    "outputId": "edd360c4-9a7b-47f6-cd4e-178d430851ab"
   },
   "outputs": [
    {
     "name": "stdout",
     "output_type": "stream",
     "text": [
      "47/47 [==============================] - 0s 5ms/step - loss: 0.6320 - accuracy: 0.2913\n",
      "Test Loss: [0.632035493850708, 0.2913333475589752]\n"
     ]
    }
   ],
   "source": [
    "loss = autoencoder.evaluate(X_test, X_test)\n",
    "print(f'Test Loss: {loss}')"
   ]
  },
  {
   "cell_type": "code",
   "execution_count": 14,
   "id": "7bf52a7b",
   "metadata": {
    "id": "7bf52a7b",
    "outputId": "4a4c5d64-8523-4c64-b1fa-742833ae7967"
   },
   "outputs": [
    {
     "name": "stdout",
     "output_type": "stream",
     "text": [
      "47/47 [==============================] - 1s 5ms/step\n",
      "Confusion Matrix:\n",
      " [[575  47]\n",
      " [850  28]]\n",
      "Classification report:\n",
      "               precision    recall  f1-score   support\n",
      "\n",
      "           0       0.40      0.92      0.56       622\n",
      "           1       0.37      0.03      0.06       878\n",
      "\n",
      "    accuracy                           0.40      1500\n",
      "   macro avg       0.39      0.48      0.31      1500\n",
      "weighted avg       0.39      0.40      0.27      1500\n",
      "\n"
     ]
    }
   ],
   "source": [
    "decoded_data = autoencoder.predict(X_test)\n",
    "mse = np.mean(np.power(X_test - decoded_data, 2), axis = 1)\n",
    "threshold = np.percentile(mse, 95)\n",
    "\n",
    "outliers = mse> threshold\n",
    "print(\"Confusion Matrix:\\n\", confusion_matrix(y_test, outliers))\n",
    "print(\"Classification report:\\n\", classification_report(y_test, outliers))"
   ]
  },
  {
   "cell_type": "code",
   "execution_count": 15,
   "id": "45c09e34",
   "metadata": {
    "id": "45c09e34"
   },
   "outputs": [],
   "source": [
    "num_outliers = np.sum(outliers)\n",
    "num_anomalies = np.sum(y_test[outliers] == 1)"
   ]
  },
  {
   "cell_type": "code",
   "execution_count": 16,
   "id": "d7b387e2",
   "metadata": {
    "id": "d7b387e2",
    "outputId": "c1e4759d-1ff8-4351-9d4d-1e689249105c"
   },
   "outputs": [
    {
     "name": "stdout",
     "output_type": "stream",
     "text": [
      "Number of outliers: 75\n",
      "Number of anomalies: 28\n"
     ]
    }
   ],
   "source": [
    "print(f'Number of outliers: {num_outliers}')\n",
    "print(f'Number of anomalies: {num_anomalies}')"
   ]
  },
  {
   "cell_type": "code",
   "execution_count": null,
   "id": "918a56f1",
   "metadata": {
    "id": "918a56f1"
   },
   "outputs": [],
   "source": []
  },
  {
   "cell_type": "code",
   "execution_count": null,
   "id": "1ef83809",
   "metadata": {
    "id": "1ef83809"
   },
   "outputs": [],
   "source": []
  },
  {
   "cell_type": "code",
   "execution_count": null,
   "id": "1d100b00",
   "metadata": {
    "id": "1d100b00"
   },
   "outputs": [],
   "source": []
  },
  {
   "cell_type": "code",
   "execution_count": null,
   "id": "d3ef0c54",
   "metadata": {
    "id": "d3ef0c54"
   },
   "outputs": [],
   "source": []
  },
  {
   "cell_type": "code",
   "execution_count": null,
   "id": "743cb192",
   "metadata": {
    "id": "743cb192"
   },
   "outputs": [],
   "source": []
  },
  {
   "cell_type": "code",
   "execution_count": null,
   "id": "29a80d88",
   "metadata": {
    "id": "29a80d88"
   },
   "outputs": [],
   "source": []
  },
  {
   "cell_type": "code",
   "execution_count": null,
   "id": "2a275fc0",
   "metadata": {
    "id": "2a275fc0"
   },
   "outputs": [],
   "source": []
  },
  {
   "cell_type": "code",
   "execution_count": null,
   "id": "39edd974",
   "metadata": {
    "id": "39edd974"
   },
   "outputs": [],
   "source": []
  },
  {
   "cell_type": "code",
   "execution_count": null,
   "id": "22b3a4e7",
   "metadata": {
    "id": "22b3a4e7"
   },
   "outputs": [],
   "source": []
  },
  {
   "cell_type": "code",
   "execution_count": null,
   "id": "281528bd",
   "metadata": {
    "id": "281528bd"
   },
   "outputs": [],
   "source": []
  },
  {
   "cell_type": "code",
   "execution_count": null,
   "id": "e0880dd4",
   "metadata": {
    "id": "e0880dd4"
   },
   "outputs": [],
   "source": []
  }
 ],
 "metadata": {
  "colab": {
   "provenance": []
  },
  "kernelspec": {
   "display_name": "Python 3 (ipykernel)",
   "language": "python",
   "name": "python3"
  },
  "language_info": {
   "codemirror_mode": {
    "name": "ipython",
    "version": 3
   },
   "file_extension": ".py",
   "mimetype": "text/x-python",
   "name": "python",
   "nbconvert_exporter": "python",
   "pygments_lexer": "ipython3",
   "version": "3.11.5"
  }
 },
 "nbformat": 4,
 "nbformat_minor": 5
}
