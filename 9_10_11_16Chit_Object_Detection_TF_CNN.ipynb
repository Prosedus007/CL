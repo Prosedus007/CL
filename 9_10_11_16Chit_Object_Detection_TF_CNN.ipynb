{
 "cells": [
  {
   "cell_type": "code",
   "execution_count": 1,
   "id": "1dce5684",
   "metadata": {},
   "outputs": [],
   "source": [
    "import tensorflow as tf\n",
    "from tensorflow import keras\n",
    "import numpy as np"
   ]
  },
  {
   "cell_type": "code",
   "execution_count": 2,
   "id": "7a4047d8",
   "metadata": {},
   "outputs": [],
   "source": [
    "from tensorflow.keras.preprocessing.image import ImageDataGenerator"
   ]
  },
  {
   "cell_type": "code",
   "execution_count": 3,
   "id": "546dbf23",
   "metadata": {},
   "outputs": [
    {
     "name": "stdout",
     "output_type": "stream",
     "text": [
      "Found 9144 images belonging to 102 classes.\n"
     ]
    }
   ],
   "source": [
    "dataset_dir = \"content/caltech-101-img\" #Specifies the directory path where the dataset is located\n",
    "dataset_datagen = ImageDataGenerator(\n",
    "    rescale=1.0 / 255,\n",
    ")\n",
    "#normalises the image\n",
    "\n",
    "# # here batch_size is the number of images in each batch\n",
    "batch_size = 2000\n",
    "dataset_generator = dataset_datagen.flow_from_directory(\n",
    "    dataset_dir,\n",
    "    target_size=(64, 64), #resizes the image into 64 by 64 pixel\n",
    "    batch_size=batch_size, #Sets the batch size for training.\n",
    "    class_mode='categorical' # labels are one-hot encoded\n",
    ")"
   ]
  },
  {
   "cell_type": "code",
   "execution_count": 4,
   "id": "f22f7f30",
   "metadata": {},
   "outputs": [
    {
     "name": "stdout",
     "output_type": "stream",
     "text": [
      "2000\n",
      "2000\n"
     ]
    }
   ],
   "source": [
    "x_train, y_train =  dataset_generator[0]\n",
    "x_test, y_test = dataset_generator[1]\n",
    "\n",
    "print(len(x_train))\n",
    "print(len(x_test))"
   ]
  },
  {
   "cell_type": "code",
   "execution_count": 5,
   "id": "76a5878f",
   "metadata": {},
   "outputs": [],
   "source": [
    "from tensorflow.keras.models import Model\n",
    "from tensorflow.keras.layers import Dense, Flatten\n",
    "from tensorflow.keras.optimizers import Adam"
   ]
  },
  {
   "cell_type": "code",
   "execution_count": 6,
   "id": "2c599aaa",
   "metadata": {},
   "outputs": [],
   "source": [
    "from tensorflow.keras.applications import VGG16"
   ]
  },
  {
   "cell_type": "code",
   "execution_count": 7,
   "id": "8b9b2d85",
   "metadata": {},
   "outputs": [],
   "source": [
    "weights_path = \"content/vgg16_weights_tf_dim_ordering_tf_kernels_notop.h5\"\n",
    "base_model = VGG16(weights=weights_path, include_top=False, input_shape=(64, 64, 3))"
   ]
  },
  {
   "cell_type": "code",
   "execution_count": 8,
   "id": "f0892cea",
   "metadata": {},
   "outputs": [],
   "source": [
    "for layer in base_model.layers:\n",
    "   layer.trainable = False"
   ]
  },
  {
   "cell_type": "code",
   "execution_count": 9,
   "id": "b25a0c97",
   "metadata": {},
   "outputs": [],
   "source": [
    "x = Flatten()(base_model.output)\n",
    "# Explanation: This line adds a Flatten layer to the output of the base_model. The Flatten layer is used to transform the 3D tensor output from the convolutional base (which is usually the output of the last convolutional layer) into a 1D tensor. This flattening step is necessary when transitioning from convolutional layers to densely connected layers.\n",
    "# Example: Suppose the output shape of base_model is (7, 7, 512). This means you have a 3D tensor with dimensions 7x7x512. Applying the Flatten layer converts this 3D tensor into a 1D tensor by unraveling the values along the dimensions. In this case, the resulting 1D tensor would have a size of 7 * 7 * 512 = 25088.\n",
    "x = Dense(64, activation='relu')(x)\n",
    "predictions = Dense(102, activation='softmax')(x)\n",
    "\n",
    "# Create the model\n",
    "model = Model(inputs=base_model.input, outputs=predictions)\n",
    "# Compile the model\n",
    "model.compile(optimizer=\"adam\", loss='categorical_crossentropy', metrics=['accuracy'])"
   ]
  },
  {
   "cell_type": "code",
   "execution_count": 10,
   "id": "ba0a99c5",
   "metadata": {},
   "outputs": [
    {
     "name": "stdout",
     "output_type": "stream",
     "text": [
      "Epoch 1/10\n",
      "32/32 [==============================] - 83s 2s/step - loss: 3.9587 - accuracy: 0.1845 - val_loss: 3.4319 - val_accuracy: 0.2915\n",
      "Epoch 2/10\n",
      "32/32 [==============================] - 63s 2s/step - loss: 3.1152 - accuracy: 0.3365 - val_loss: 2.9629 - val_accuracy: 0.3785\n",
      "Epoch 3/10\n",
      "32/32 [==============================] - 61s 2s/step - loss: 2.5960 - accuracy: 0.4475 - val_loss: 2.6127 - val_accuracy: 0.4520\n",
      "Epoch 4/10\n",
      "32/32 [==============================] - 67s 2s/step - loss: 2.1564 - accuracy: 0.5330 - val_loss: 2.3821 - val_accuracy: 0.4920\n",
      "Epoch 5/10\n",
      "32/32 [==============================] - 64s 2s/step - loss: 1.8232 - accuracy: 0.6185 - val_loss: 2.1741 - val_accuracy: 0.5135\n",
      "Epoch 6/10\n",
      "32/32 [==============================] - 69s 2s/step - loss: 1.5670 - accuracy: 0.6610 - val_loss: 2.0650 - val_accuracy: 0.5365\n",
      "Epoch 7/10\n",
      "32/32 [==============================] - 65s 2s/step - loss: 1.3705 - accuracy: 0.7015 - val_loss: 1.9781 - val_accuracy: 0.5435\n",
      "Epoch 8/10\n",
      "32/32 [==============================] - 65s 2s/step - loss: 1.2079 - accuracy: 0.7415 - val_loss: 1.9062 - val_accuracy: 0.5640\n",
      "Epoch 9/10\n",
      "32/32 [==============================] - 64s 2s/step - loss: 1.0711 - accuracy: 0.7745 - val_loss: 1.8546 - val_accuracy: 0.5720\n",
      "Epoch 10/10\n",
      "32/32 [==============================] - 64s 2s/step - loss: 0.9513 - accuracy: 0.8100 - val_loss: 1.8829 - val_accuracy: 0.5595\n"
     ]
    },
    {
     "data": {
      "text/plain": [
       "<keras.src.callbacks.History at 0x210b5fb0c10>"
      ]
     },
     "execution_count": 10,
     "metadata": {},
     "output_type": "execute_result"
    }
   ],
   "source": [
    "model.fit(x_train, y_train, batch_size=64, epochs=10, validation_data=(x_test, y_test))"
   ]
  },
  {
   "cell_type": "code",
   "execution_count": 11,
   "id": "dd74f9db",
   "metadata": {},
   "outputs": [
    {
     "name": "stdout",
     "output_type": "stream",
     "text": [
      "Epoch 1/20\n",
      "32/32 [==============================] - 91s 2s/step - loss: 3.2638 - accuracy: 0.3425 - val_loss: 2.3829 - val_accuracy: 0.4790\n",
      "Epoch 2/20\n",
      "32/32 [==============================] - 73s 2s/step - loss: 1.8916 - accuracy: 0.5610 - val_loss: 1.9781 - val_accuracy: 0.5360\n",
      "Epoch 3/20\n",
      "32/32 [==============================] - 71s 2s/step - loss: 1.2824 - accuracy: 0.6615 - val_loss: 1.7101 - val_accuracy: 0.6050\n",
      "Epoch 4/20\n",
      "32/32 [==============================] - 67s 2s/step - loss: 0.8126 - accuracy: 0.7815 - val_loss: 1.6403 - val_accuracy: 0.6195\n",
      "Epoch 5/20\n",
      "32/32 [==============================] - 55s 2s/step - loss: 0.5320 - accuracy: 0.8515 - val_loss: 1.6025 - val_accuracy: 0.6310\n",
      "Epoch 6/20\n",
      "32/32 [==============================] - 52s 2s/step - loss: 0.2988 - accuracy: 0.9185 - val_loss: 1.6592 - val_accuracy: 0.6365\n",
      "Epoch 7/20\n",
      "32/32 [==============================] - 51s 2s/step - loss: 0.1959 - accuracy: 0.9475 - val_loss: 1.6874 - val_accuracy: 0.6375\n",
      "Epoch 8/20\n",
      "32/32 [==============================] - 56s 2s/step - loss: 0.1463 - accuracy: 0.9620 - val_loss: 1.8284 - val_accuracy: 0.6215\n",
      "Epoch 9/20\n",
      "32/32 [==============================] - 46s 1s/step - loss: 0.1038 - accuracy: 0.9735 - val_loss: 1.6684 - val_accuracy: 0.6445\n",
      "Epoch 10/20\n",
      "32/32 [==============================] - 39s 1s/step - loss: 0.0701 - accuracy: 0.9855 - val_loss: 1.6875 - val_accuracy: 0.6500\n",
      "Epoch 11/20\n",
      "32/32 [==============================] - 36s 1s/step - loss: 0.0419 - accuracy: 0.9910 - val_loss: 1.7388 - val_accuracy: 0.6600\n",
      "Epoch 12/20\n",
      "32/32 [==============================] - 38s 1s/step - loss: 0.0306 - accuracy: 0.9925 - val_loss: 1.7068 - val_accuracy: 0.6610\n",
      "Epoch 13/20\n",
      "32/32 [==============================] - 36s 1s/step - loss: 0.0657 - accuracy: 0.9875 - val_loss: 1.8505 - val_accuracy: 0.6390\n",
      "Epoch 14/20\n",
      "32/32 [==============================] - 37s 1s/step - loss: 0.0287 - accuracy: 0.9940 - val_loss: 1.8829 - val_accuracy: 0.6470\n",
      "Epoch 15/20\n",
      "32/32 [==============================] - 34s 1s/step - loss: 0.0338 - accuracy: 0.9945 - val_loss: 1.7657 - val_accuracy: 0.6640\n",
      "Epoch 16/20\n",
      "32/32 [==============================] - 33s 1s/step - loss: 0.0166 - accuracy: 0.9965 - val_loss: 1.7614 - val_accuracy: 0.6640\n",
      "Epoch 17/20\n",
      "32/32 [==============================] - 32s 1s/step - loss: 0.0134 - accuracy: 0.9960 - val_loss: 1.8337 - val_accuracy: 0.6605\n",
      "Epoch 18/20\n",
      "32/32 [==============================] - 32s 1s/step - loss: 0.0178 - accuracy: 0.9970 - val_loss: 1.8999 - val_accuracy: 0.6520\n",
      "Epoch 19/20\n",
      "32/32 [==============================] - 32s 1s/step - loss: 0.0083 - accuracy: 0.9980 - val_loss: 1.8259 - val_accuracy: 0.6525\n",
      "Epoch 20/20\n",
      "32/32 [==============================] - 32s 1s/step - loss: 0.0153 - accuracy: 0.9950 - val_loss: 1.9397 - val_accuracy: 0.6525\n"
     ]
    },
    {
     "data": {
      "text/plain": [
       "<keras.src.callbacks.History at 0x210b7458510>"
      ]
     },
     "execution_count": 11,
     "metadata": {},
     "output_type": "execute_result"
    }
   ],
   "source": [
    "base_model = VGG16(weights=weights_path, include_top=False, input_shape=(64, 64, 3))\n",
    "# freeze all layers first\n",
    "for layer in base_model.layers:\n",
    "   layer.trainable = False\n",
    "# unfreeze last 4 layers of base model\n",
    "for layer in base_model.layers[len(base_model.layers) - 2:]:\n",
    "   layer.trainable = True\n",
    "# fine-tuning hyper parameters\n",
    "x = Flatten()(base_model.output)\n",
    "x = Dense(512, activation='relu')(x)\n",
    "x = tf.keras.layers.Dropout(0.3)(x)\n",
    "predictions = Dense(102, activation='softmax')(x)\n",
    "\n",
    "# Create the model\n",
    "model = Model(inputs=base_model.input, outputs=predictions)\n",
    "# Compile the model\n",
    "model.compile(optimizer=Adam(learning_rate=0.001), loss='categorical_crossentropy', metrics=['accuracy'])\n",
    "# training fine tuned model\n",
    "model.fit(x_train, y_train, batch_size=64, epochs=20, validation_data=(x_test, y_test))\n"
   ]
  },
  {
   "cell_type": "code",
   "execution_count": 12,
   "id": "9a09850d",
   "metadata": {},
   "outputs": [
    {
     "name": "stdout",
     "output_type": "stream",
     "text": [
      "63/63 [==============================] - 16s 252ms/step\n"
     ]
    }
   ],
   "source": [
    "import matplotlib.pyplot as plt\n",
    "predicted_value = model.predict(x_test)"
   ]
  },
  {
   "cell_type": "code",
   "execution_count": 13,
   "id": "91552a80",
   "metadata": {},
   "outputs": [],
   "source": [
    "labels = list(dataset_generator.class_indices.keys())"
   ]
  },
  {
   "cell_type": "code",
   "execution_count": 14,
   "id": "4b877967",
   "metadata": {},
   "outputs": [
    {
     "name": "stdout",
     "output_type": "stream",
     "text": [
      "Preditcted:  car_side\n",
      "Actual:  car_side\n"
     ]
    },
    {
     "data": {
      "image/png": "[encoded data removed]",
      "text/plain": [
       "<Figure size 640x480 with 1 Axes>"
      ]
     },
     "metadata": {},
     "output_type": "display_data"
    }
   ],
   "source": [
    "n = 887\n",
    "\n",
    "plt.imshow(x_test[n])\n",
    "print(\"Preditcted: \",labels[np.argmax(predicted_value[n])])\n",
    "print(\"Actual: \", labels[np.argmax(y_test[n])])"
   ]
  },
  {
   "cell_type": "code",
   "execution_count": null,
   "id": "6a706e69",
   "metadata": {},
   "outputs": [],
   "source": []
  }
 ],
 "metadata": {
  "kernelspec": {
   "display_name": "Python 3 (ipykernel)",
   "language": "python",
   "name": "python3"
  },
  "language_info": {
   "codemirror_mode": {
    "name": "ipython",
    "version": 3
   },
   "file_extension": ".py",
   "mimetype": "text/x-python",
   "name": "python",
   "nbconvert_exporter": "python",
   "pygments_lexer": "ipython3",
   "version": "3.11.5"
  }
 },
 "nbformat": 4,
 "nbformat_minor": 5
}
